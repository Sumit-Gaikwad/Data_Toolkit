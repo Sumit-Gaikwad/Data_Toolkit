{
  "nbformat": 4,
  "nbformat_minor": 0,
  "metadata": {
    "colab": {
      "provenance": []
    },
    "kernelspec": {
      "name": "python3",
      "display_name": "Python 3"
    },
    "language_info": {
      "name": "python"
    }
  },
  "cells": [
    {
      "cell_type": "markdown",
      "source": [
        "##1.What is NumPy, and why is it widely used in Python?\n",
        "* NumPY (Numberical Python) is a powerful Python libary used for numberical computing. It provides support for large, multi-dimensional\n",
        "arrays and matrices, along with a collection of mathematical function to operate on these arrays efficiently.\n",
        "\n",
        "\n",
        "**Performance :** Faster computations due to optimized C-based implementation.\n",
        "\n",
        "**Ease of Use :** Simplifies handling large datasets with array operations.\n",
        "\n",
        "**Broadcasting :** Allows efficient operations on arrays of different shapes.\n",
        "\n",
        "**Integration :** Works well with other libraries like Pandas, SciPy, and TensorFlow.\n",
        "\n",
        "**Memory Efficient :** Uses less memory compared to Python lists.\n",
        "___________________________________________________________________________\n"
      ],
      "metadata": {
        "id": "rViEVlDJJhWt"
      }
    },
    {
      "cell_type": "markdown",
      "source": [
        "##2.How does broadcasting work in NumPy?\n",
        "\n",
        "**NumPy Broadcasting :** Broadcasting in NumPy allows arithmetic operations between arrays of different shapes without creating unnecessary copies, making computations efficient.\n",
        "\n",
        "When performing operation on two arrays of different shapes, NumPy automatically expand the smaller array to match the shape of the larger array without duplicating data.\n",
        "   \n",
        "**Example**\n",
        "\n",
        "```\n",
        "import numpy as np\n",
        "\n",
        "A = np.array([[1, 2, 3], [4, 5, 6]])  # Shape (2,3)\n",
        "B = np.array([[1], [2]])              # Shape (2,1)\n",
        "\n",
        "C = A + B  # B is broadcasted to shape (2,3)\n",
        "print(C)\n",
        "```\n",
        "\n",
        "\n",
        "*Output*\n",
        "```\n",
        "[[2 3 4]\n",
        " [6 7 8]]\n",
        "```\n",
        "___________________________________________________________________________\n"
      ],
      "metadata": {
        "id": "Cb9DuOjzMZkG"
      }
    },
    {
      "cell_type": "markdown",
      "source": [
        "##3.What is a Pandas DataFrame\n",
        "\n",
        "A Pandas DataFrame is a 2D lebeled data structure in Pyhton, similar to a table in a database or an Excel spreadsheet. it consists of rows and calumns where :\n",
        "\n",
        "* **Rows** have an index (default is 0,1,2,.... but can be customized)\n",
        "\n",
        "* **Columns** have labeled names and can hold different data types.\n",
        "\n",
        "\n",
        "*Example*\n",
        "```\n",
        "import pandas as pd\n",
        "\n",
        "data = {'Name': ['Alice', 'Bob', 'Charlie'], 'Age': [25, 30, 35]}\n",
        "df = pd.DataFrame(data)\n",
        "print(df)\n",
        "```\n",
        "Output\n",
        "```\n",
        "     Name  Age\n",
        "0   Alice   25\n",
        "1     Bob   30\n",
        "2  Charlie   35\n",
        "```\n",
        "___________________________________________________________________________\n"
      ],
      "metadata": {
        "id": "X1RTD5CTOgSI"
      }
    },
    {
      "cell_type": "markdown",
      "source": [
        "##4.Explain the use of the groupby() method in Pandas.\n",
        "\n",
        "The ```groupby()```method in Pandas is used tp split apply and combine data based on a specified column. It is mainly used for grouping data and performing aggregate functions like sum,mean,count, etc.\n",
        "\n",
        "*How it Works*\n",
        "\n",
        "1. **Splits** data into groups based on a column,\n",
        "\n",
        "2. **Applies** a function(e.g. sum,mean) to each group.\n",
        "\n",
        "3. **Combines** the results into a new DataFrame.\n",
        "\n",
        "*Example*\n",
        "```\n",
        "import pandas as pd\n",
        "\n",
        "# Creating a DataFrame\n",
        "data = {'Department': ['HR', 'IT', 'HR', 'IT', 'Finance'],\n",
        "        'Salary': [5000, 7000, 5200, 7100, 6500]}\n",
        "\n",
        "df = pd.DataFrame(data)\n",
        "\n",
        "# Grouping by 'Department' and calculating the mean salary\n",
        "grouped_df = df.groupby('Department')['Salary'].mean()\n",
        "print(grouped_df)\n",
        "```\n",
        "Output\n",
        "```\n",
        "Department\n",
        "Finance    6500.0\n",
        "HR         5100.0\n",
        "IT         7050.0\n",
        "Name: Salary, dtype: float64\n",
        "```\n",
        "\n",
        "___________________________________________________________________________\n",
        "\n",
        "\n",
        "\n"
      ],
      "metadata": {
        "id": "5Adz25VxQBVC"
      }
    },
    {
      "cell_type": "markdown",
      "source": [
        "##5.Why is Seaborn preferred for statistical visualizations?\n",
        "\n",
        "Seaborn is preferred for statistical visualizations because:\n",
        "\n",
        "**Beautiful & Readable :** Stylish default themes and color palettes.\n",
        "\n",
        "**Simplifies Complex Plots:** One-liner functions for box plots,violin plots, heatmaps, etc.\n",
        "\n",
        "**Builts-in Statistical Features:** Adds regression lines, confidence intervals, and KDE plots automatically.\n",
        "\n",
        "**Seamless Pandas Integration:** Works directly with  DataFrames.\n",
        "\n",
        "**Enhances Metplotlib:** Provides better aesthetics while allowing further customization.\n",
        "\n",
        "*Example*\n",
        "```\n",
        "import seaborn as sns\n",
        "import matplotlib.pyplot as plt\n",
        "\n",
        "tips = sns.load_dataset(\"tips\")\n",
        "sns.boxplot(x=\"day\", y=\"total_bill\", data=tips)\n",
        "plt.show()\n",
        "```\n",
        "___________________________________________________________________________\n"
      ],
      "metadata": {
        "id": "ONwnhSfaR1-f"
      }
    },
    {
      "cell_type": "markdown",
      "source": [
        "##6.What are the differences between NumPy arrays and Python lists?\n",
        "\n",
        "1] **Performance:**NumPy arrays are faster and more memory-efficient than Python lists due to their fixed type and optimized C implementation.\n",
        "\n",
        "2] **Data Type :** NumPy  arrays are homogeneoud (all elements must have the same data type), whereas Python lists are heterogeneous (can cantain different types.)\n",
        "\n",
        "3] **Operations :** NumPy arrays support vectorized operations(element-wise computations without loops),making mathematical operations more efficient.\n",
        "\n",
        "4] **Memory Usage :** NumPy arrays use contiguous memory reducing overhead and improving speed, while Python lists store references to objects increasing memory usage.\n",
        "\n",
        "5] **Functionality :** NumPy provides powerful mathematical functions like linear algebra, statistical operations, and broadcasting which Pyhton lists lack.\n",
        "___________________________________________________________________________\n"
      ],
      "metadata": {
        "id": "fgFiX3YHTxvn"
      }
    },
    {
      "cell_type": "markdown",
      "source": [
        "##7.What is a heatmap, and when should it be used?\n",
        "\n",
        "A heatmap is a data visualization technique that uses color to represent values in a matrix or dataset Darker or more intense colors typically indicate higher values, while lighter or cooler colors indicate lower values.\n",
        "\n",
        "**When to Use a Heatmap?**\n",
        "\n",
        "* **Correlation Analysis -** To visualize relationships between variables in a dataset.\n",
        "\n",
        "* **Density Representation -** To show concentration areas in large datasets (e.g. website clicks, customer locations.)\n",
        "\n",
        "* **Feature Importance -** In machine learning to highlight significant variable.\n",
        "\n",
        "* **Matrix Data-** To display large tables or matrices in an intuitive way (e.g. confusion matrices).\n",
        "___________________________________________________________________________\n",
        "\n"
      ],
      "metadata": {
        "id": "z2kXFuQrfZA6"
      }
    },
    {
      "cell_type": "markdown",
      "source": [
        "###8.What does the term “vectorized operation” mean in NumPy?\n",
        "\n",
        "A vectorized operation in NumPy means performing operations on entire arrays without using explict loops, leveraging highly optimized C and Fortran libraries for speed.\n",
        "\n",
        "**Why Use Vectorized Operations?**\n",
        "\n",
        "* **Faster Execution -** Uses low-level optimizations instead of Python loops.\n",
        "\n",
        "* **More Readable Code -** Cleaner and more concise syntax.\n",
        "\n",
        "* **Memory Efficient -** Reduces overhead by eliminating explicit iterations.\n",
        "\n",
        "\n",
        "**Example**\n",
        "\n",
        "```\n",
        "import numpy as np\n",
        "\n",
        "arr = np.array([1, 2, 3, 4])\n",
        "result = arr * 2  # Vectorized multiplication\n",
        "print(result)  # Output: [2 4 6 8]\n",
        "```\n",
        "This is much faster than using a for loop in Python.\n",
        "\n",
        "___________________________________________________________________________\n",
        "\n",
        "\n"
      ],
      "metadata": {
        "id": "ATSUPY7ChPgv"
      }
    },
    {
      "cell_type": "markdown",
      "source": [
        "###9.How does Matplotlib differ from Plotly?\n",
        "\n",
        "* **Matplotlib -** Static plots, highly customizable great for reserch & reports.\n",
        "\n",
        "* **Plotly -**  Interactive plots, web-friendly, ideal for dashboards & presentations.\n",
        "\n",
        "* **Customization -** Matplotlib offers more control; plotly is easier to use.\n",
        "\n",
        "* **3D Support -** Basic in Matplotlib, advanced in Plotly.\n",
        "\n",
        "* **Interactivity -**Limited in Matplotlib, built-in in Plotly.\n",
        "\n",
        "\n",
        "Use Matplotlib for precise static visuals & Plotly for interactive, dynamic charts.\n",
        "___________________________________________________________________________"
      ],
      "metadata": {
        "id": "N7NXJ37ZkAEN"
      }
    },
    {
      "cell_type": "markdown",
      "source": [
        "###10.What is the significance of hierarchical indexing in Pandas?\n",
        "\n",
        "**Significance of Hierarchical Indexing in Pandas**\n",
        "\n",
        "* **Multi-level Indexing -** Allows indexing with multiple keys (e.g. row & column levels.)\n",
        "\n",
        "* **Better Data Organization -** Efficiently handles complex datasets like\n",
        "multi-dimensional data.\n",
        "\n",
        "* **Easier Data Selection -**Enables advanced filtering using multiple index levels.\n",
        "\n",
        "* **Enhanced Grouping & Aggregation -**Useful for operations like ```.groupby()``` and ```.pivot_table().```\n",
        "\n",
        "*Example*\n",
        "```\n",
        "import pandas as pd\n",
        "\n",
        "data = pd.Series([10, 20, 30], index=[['A', 'A', 'B'], ['one', 'two', 'one']])\n",
        "print(data)\n",
        "\n",
        "```\n",
        "___________________________________________________________________________"
      ],
      "metadata": {
        "id": "jivYqzkOmQDP"
      }
    },
    {
      "cell_type": "markdown",
      "source": [
        "##11.What is the role of Seaborn’s pairplot() function?\n",
        "\n",
        "**Role of ```pairolot()``` in Seaborn**\n",
        "* **Viualizes Relationships -** Plots pairwise relationships between numerical variables in a dataset.\n",
        "\n",
        "* **Scatter & Histogram Mix -** Uses scatter plots for variable pairs and histograms for distributions.\n",
        "\n",
        "* **Quick Data Exploration -** Hepls identify trends, correlations, and outliers.\n",
        "\n",
        "* **Hue Support -** Allowa coloring by categorical varoables for better insights.\n",
        "\n",
        "*Example*\n",
        "```\n",
        "import seaborn as sns\n",
        "\n",
        "df = sns.load_dataset(\"iris\")\n",
        "sns.pairplot(df, hue=\"species\")\n",
        "```\n",
        "___________________________________________________________________________"
      ],
      "metadata": {
        "id": "ehTbMrZrpL_V"
      }
    },
    {
      "cell_type": "markdown",
      "source": [
        "##12.What is the purpose of the describe() function in Pandas?\n",
        "\n",
        "**Purpose of ```describe()``` in Pandas**\n",
        "\n",
        "* **Summary Statistics -** Provides key statistical insights for numerical data.\n",
        "\n",
        "* **Metrics Included -** Count, mean, std (standard deviation), min, max, and quartiles (25%, 50%, 70%)\n",
        "\n",
        "* **Quick Data Understanding -** Helps in detecting outliers, distributions, and missing values.\n",
        "\n",
        "* **Supports Categorical Data -** With ```include='all'```, it can summarize categorical columns too.\n",
        "\n",
        "*Example*\n",
        "```\n",
        "import pandas as pd\n",
        "\n",
        "df = pd.DataFrame({'A': [1, 2, 3, 4, 5]})\n",
        "print(df.describe())\n",
        "```\n",
        "___________________________________________________________________________"
      ],
      "metadata": {
        "id": "fnGuUoM_rgpp"
      }
    },
    {
      "cell_type": "markdown",
      "source": [
        "##13.Why is handling missing data important in Pandas?\n",
        "\n",
        "* **Ensures Data Integrity -** Prevent incorrect or biased analysis.\n",
        "\n",
        "* **Improves Model Accuracy -** Missing values can distort machine learning predictions.\n",
        "\n",
        "* **Prevents Errors -** Some operations may fail with ```NaN``` values.\n",
        "\n",
        "* **Enhances Data Quality -** Cleaning data leads to better indights and decision-making.\n",
        "\n",
        "**Common Methods:**\n",
        "\n",
        "* Remove Missing Data-> ```df.dropna()```\n",
        "\n",
        "* Fill Missing Data->```df.fillna(value)```\n",
        "\n",
        "* Check Missing Data->```df.isnull().sum\n",
        "()```\n",
        "\n",
        "___________________________________________________________________________\n"
      ],
      "metadata": {
        "id": "izyYPsG1ua9j"
      }
    },
    {
      "cell_type": "markdown",
      "source": [
        "##14.What are the benefits of using Plotly for data visualization?\n",
        "\n",
        "**Benefits of Using Plotly for Data Visualization**\n",
        "\n",
        "* **Interactive Plots -** Zoom, hover, pan,and filter data easily.\n",
        "\n",
        "* **Web-Friendly -** Works seamlessly with web app (Dash,Jupyter,Notebooks)\n",
        "\n",
        "* **Wide Range of Charts -** Supports 2D, 3D and specialized visualizations.\n",
        "\n",
        "* **Easy Customization -** Simple syntax for styling and formatting.\n",
        "\n",
        "* **Supports Large Datasets -** Efficient handling of big data with WebGL.\n",
        "\n",
        "\n",
        "___________________________________________________________________________"
      ],
      "metadata": {
        "id": "cbccV5qDyNGk"
      }
    },
    {
      "cell_type": "markdown",
      "source": [
        "##15.How does NumPy handle multidimensional arrays?\n",
        "\n",
        "* **Uses ```ndarray``` object -** Supports  multi-dimensional arrays efficiently.\n",
        "\n",
        "* **Shape & Dimensions -** Controlled via```.shape```(size)and```.ndim```(number of dimensions).\n",
        "\n",
        "* **Indexing & Slicing -** Supports adcanced slicing for easy access.\n",
        "\n",
        "* **Vectorized Operations -** Fast computations on multi-dimensional data.\n",
        "\n",
        "* **Reshaping & Broadcasting -** Flexible resizing and operations across different shapes.\n",
        "\n",
        "*Example*\n",
        "```\n",
        "import numpy as np\n",
        "\n",
        "arr = np.array([[1, 2, 3], [4, 5, 6]])  # 2D Array\n",
        "print(arr.shape)  # Output: (2, 3)\n",
        "print(arr.ndim)   # Output: 2\n",
        "```\n",
        "___________________________________________________________________________"
      ],
      "metadata": {
        "id": "N3H_D1Hd5CHF"
      }
    },
    {
      "cell_type": "markdown",
      "source": [
        "##16.What is the role of Bokeh in data visualization?\n",
        "\n",
        "* **Interactive Visuals -** Creates dynamic, web-based plots with zoom pan, and hover effects.\n",
        "\n",
        "* **Web Integration -** Easily embeds charts in HTML, Flask, or Django apps.\n",
        "\n",
        "* **Handles Large Data -** Optimized for big datasets with WebGL support.\n",
        "\n",
        "* **Multiple Output Options -** Supports notebooks, standalone HTML, and server applications.\n",
        "\n",
        "* **Versatile Charts -** Provides bar charts, scatter plots, maps, and dashboards.\n",
        "\n",
        "\n",
        "*Example*\n",
        "```\n",
        "from bokeh.plotting import figure, show\n",
        "\n",
        "p = figure(title=\"Simple Bokeh Plot\")\n",
        "p.circle([1, 2, 3], [4, 5, 6], size=10)\n",
        "show(p)\n",
        "```\n",
        "___________________________________________________________________________"
      ],
      "metadata": {
        "id": "2KA7K1gO6fMu"
      }
    },
    {
      "cell_type": "markdown",
      "source": [
        "##17.Explain the difference between apply() and map() in Pandas?\n",
        "\n",
        "* ```apply()``` - Works on both series & DataFrame, applies a function to rows/coloumns.\n",
        "Can handle complex functions (```lambda```,```np```functions, etc.)\n",
        "\n",
        "* Use```apply()```for row/column-wise transformations.\n",
        "\n",
        "\n",
        "\n",
        "* ```map()``` - Works only on series, applies a function elements-wise.\n",
        "Can also map values using a dictionary or another Series.\n",
        "\n",
        "* Use```map()```for element-wise modifications in a Series.\n",
        "\n",
        "___________________________________________________________________________"
      ],
      "metadata": {
        "id": "RyJmnkuW8eFL"
      }
    },
    {
      "cell_type": "markdown",
      "source": [
        "##18.What are some advanced features of NumPy?\n",
        "\n",
        "* **Broadcasting -** Perform operations on arrays of different shapes efficiently.\n",
        "\n",
        "* **Vectorized Operations -** Faster computations without explicit loops.\n",
        "\n",
        "* **Multidimensional Arrays(```ndarray```) -** Efficient handling of high-dimensional data\n",
        "\n",
        "* **Linear Algebra(```numpy.linalg```) -** Matrix operations,eigenvalues,and inverses.\n",
        "\n",
        "* **Fourier Transform(```numpy.fft```) -** Perform fast Fourier\n",
        "\n",
        "* **Random Sampling(```numpy.random```) -** Generate random numbers.\n",
        "\n",
        "* **Memory Mapping(```numpy.memmap```) -** Work with large datasets without loading into RAM.\n",
        "\n",
        "* **Advanced Indexing & Slicing -** Supports boolean,fancy and multi-demensional indexing.\n",
        "___________________________________________________________________________\n"
      ],
      "metadata": {
        "id": "kflGgNKD_CFM"
      }
    },
    {
      "cell_type": "markdown",
      "source": [
        "##19.How does Pandas simplify time series analysis?\n",
        "* **DateTime Indexing -** Supports ```datetimeIndex``` for easy time-based operations.\n",
        "\n",
        "* **Resampling & Frequency Conversion -** Change time intervals using ```.resample()```.\n",
        "\n",
        "* **Shifting & Expanding Windows -** Compute moving averages and cimilative stats with ```.rolling()```&```.expanding()```.\n",
        "\n",
        "* **Time Zone Handling -** Convert time zones using ```.tz_localize()``` & ```.tz_conver()```.\n",
        "\n",
        "* **Date Parsing -** Automatically converts data strings to ```datetime``` format.\n",
        "\n",
        "*Example*\n",
        "\n",
        "```\n",
        "import pandas as pd\n",
        "\n",
        "# Create a time series DataFrame\n",
        "dates = pd.date_range(\"2024-01-01\", periods=5, freq=\"D\")\n",
        "df = pd.DataFrame({\"date\": dates, \"value\": [10, 20, 30, 40, 50]})\n",
        "df.set_index(\"date\", inplace=True)\n",
        "\n",
        "# Resample to weekly frequency\n",
        "df_resampled = df.resample(\"W\").mean()\n",
        "\n",
        "```\n",
        "___________________________________________________________________________"
      ],
      "metadata": {
        "id": "DF6S4J-zDOry"
      }
    },
    {
      "cell_type": "markdown",
      "source": [
        "##20.What is the role of a pivot table in Pandas?\n",
        "* **Summarizes Data -** Aggregates data based on specified columns.\n",
        "\n",
        "* **Reshapes Large Dataset -** Converts long-format data into a more readable format.\n",
        "\n",
        "* **Applies Aggregations -** Suppoers ```sum```, ```mean```, ```count``` etc,. using aggfunc.\n",
        "\n",
        "* **Multi-Level Indexing -** Allows grouping by multiple columns.\n",
        "\n",
        "* **Handles Missing Data -** Fills missing values with ```fill_value```.\n",
        "\n",
        "\n",
        "*Example*\n",
        "\n",
        "```\n",
        "import pandas as pd\n",
        "\n",
        "data = {'Category': ['A', 'A', 'B', 'B'],\n",
        "        'Sales': [100, 200, 300, 400],\n",
        "        'Year': [2023, 2024, 2023, 2024]}\n",
        "\n",
        "df = pd.DataFrame(data)\n",
        "\n",
        "# Create a pivot table\n",
        "pivot = df.pivot_table(values='Sales', index='Category', columns='Year', aggfunc='sum')\n",
        "print(pivot)\n",
        "```\n",
        "___________________________________________________________________________\n"
      ],
      "metadata": {
        "id": "lmzNxMfYFULu"
      }
    },
    {
      "cell_type": "markdown",
      "source": [
        "##21.Why is NumPy’s array slicing faster than Python’s list slicing?\n",
        "* **Views Instead of Copies -** NumPy slicing returns a view (not a new object) saving memory.\n",
        "\n",
        "* **Contiguous Memory -** NumPy arrays store data in contiguous blocks, improving access speed.\n",
        "\n",
        "* **Low-Level Optimizations -** NumPy is impemented in C, making operations significantly faster.\n",
        "\n",
        "* **No Type Checking Overhead -** All elements have the same data type, unlike Python Lists.\n",
        "\n",
        "* **Vectorized Operations -** NumPy operates on entire arrays at once, avoiding slow Python loops.\n",
        "\n",
        "*Example*\n",
        "```\n",
        "import numpy as np\n",
        "\n",
        "arr = np.arange(10)  # NumPy array\n",
        "slice_arr = arr[2:7]  # Fast slicing (view, not a copy)\n",
        "\n",
        "```\n",
        "NumPy slicing is memory-efficient & lightning-fast!\n",
        "\n",
        "___________________________________________________________________________"
      ],
      "metadata": {
        "id": "xedrbCDrG2h7"
      }
    },
    {
      "cell_type": "markdown",
      "source": [
        "##22.What are some common use cases for Seaborn?\n",
        "* **Statistical Data Visualization -** Built-in functions for analyzing relationships, distributions, and categories.\n",
        "\n",
        "* **Correlation Heatmaps -** Visualizing feature reletionships using ```heatmap()```,\n",
        "\n",
        "* **Pairwise Plots -** Exploring pairwise relationships with  ```pairplot()```.\n",
        "\n",
        "* **Categorical Data Visualization -** Using ```barplot()```,```boxplot()```, and ```violinplot()```.\n",
        "\n",
        "* **Regression Analysis -** Plotting trends with ```regplot()``` and ```lmplot()```\n",
        "\n",
        "* **Time Series Analysis -** Line Plots with ```lineplot()```.\n",
        "\n",
        "* **Faceted Plots -** Creating multiple subplotes using ```facetGrid()```.\n",
        "\n",
        "*Example*\n",
        "```\n",
        "\n",
        "import seaborn as sns\n",
        "import matplotlib.pyplot as plt\n",
        "\n",
        "# Load dataset\n",
        "df = sns.load_dataset(\"tips\")\n",
        "\n",
        "# Create a boxplot\n",
        "sns.boxplot(x=\"day\", y=\"total_bill\", data=df)\n",
        "plt.show()\n",
        "```\n",
        "___________________________________________________________________________\n",
        "\n"
      ],
      "metadata": {
        "id": "Hw6vgLZDIail"
      }
    },
    {
      "cell_type": "markdown",
      "source": [
        "#Practical"
      ],
      "metadata": {
        "id": "cV_O--1TQGRW"
      }
    },
    {
      "cell_type": "code",
      "source": [
        "#1.How do you create a 2D NumPy array and calculate the sum of each row?\n",
        "\n",
        "import numpy as np\n",
        "\n",
        "#Create a 2D array\n",
        "arr = np.array([[1, 2, 3],\n",
        "                [4, 5, 6],\n",
        "                [7, 8, 9]])\n",
        "\n",
        "#Calculate sum of each row\n",
        "row_sums = np.sum(arr, axis=1)\n",
        "\n",
        "print(row_sums)"
      ],
      "metadata": {
        "id": "arHrYd7zQTDE",
        "colab": {
          "base_uri": "https://localhost:8080/"
        },
        "outputId": "abf1691a-eea4-4c22-82d1-b2849e282b0b"
      },
      "execution_count": null,
      "outputs": [
        {
          "output_type": "stream",
          "name": "stdout",
          "text": [
            "[ 6 15 24]\n"
          ]
        }
      ]
    },
    {
      "cell_type": "code",
      "source": [
        "#2.Write a Pandas script to find the mean of a specific column in a DataFrame.\n",
        "\n",
        "import pandas as pd\n",
        "\n",
        "# Create a DataFrame\n",
        "data = {'Name': ['Alice', 'Bob', 'Charlie'],\n",
        "        'Age' : [25, 30, 35],\n",
        "        'Salary': [50000, 60000, 70000]}\n",
        "df = pd.DataFrame(data)\n",
        "\n",
        "#Find the mean of the 'Salary\" column\n",
        "mean_salary = df['Salary'].mean()\n",
        "\n",
        "print(\"Mean Salary:\", mean_salary)"
      ],
      "metadata": {
        "colab": {
          "base_uri": "https://localhost:8080/"
        },
        "id": "d-QQKx0IuYSl",
        "outputId": "e7dcd245-c4c3-47b5-9612-342281b77dec"
      },
      "execution_count": 1,
      "outputs": [
        {
          "output_type": "stream",
          "name": "stdout",
          "text": [
            "Mean Salary: 60000.0\n"
          ]
        }
      ]
    },
    {
      "cell_type": "code",
      "source": [
        "#3.Create a scatter plot using Matplotlib.\n",
        "\n",
        "import matplotlib.pyplot as plt\n",
        "\n",
        "#sample data\n",
        "x = [1, 2, 3, 4, 5]\n",
        "y = [10, 20, 30, 40, 50]\n",
        "\n",
        "#Create scatter plot\n",
        "plt.scatter(x, y, color='blue', marker='o')\n",
        "\n",
        "#Labels and title\n",
        "plt.xlabel(\"X-axis\")\n",
        "plt.ylabel(\"Y-axis\")\n",
        "plt.title(\"Simple Scatter Plot\")\n",
        "\n",
        "#Show Plot\n",
        "plt.show()"
      ],
      "metadata": {
        "colab": {
          "base_uri": "https://localhost:8080/",
          "height": 472
        },
        "id": "gnWLbamHvtNJ",
        "outputId": "fed806c8-5455-4e5c-9e76-adcd007975ca"
      },
      "execution_count": null,
      "outputs": [
        {
          "output_type": "display_data",
          "data": {
            "text/plain": [
              "<Figure size 640x480 with 1 Axes>"
            ],
            "image/png": "[encoded data removed]"
          },
          "metadata": {}
        }
      ]
    },
    {
      "cell_type": "code",
      "source": [
        "#4. How do you calculate the correlation matrix using Seaborn and visualize it with a heatmap.\n",
        "\n",
        "import seaborn as sns\n",
        "import pandas as pd\n",
        "import matplotlib.pyplot as plt\n",
        "\n",
        "#Sample DataFrame\n",
        "data = {'A' : [1, 2, 3, 4, 5],\n",
        "        'B' : [2, 3, 4, 5, 6],\n",
        "        'C' : [3, 4, 5, 6, 7]}\n",
        "df = pd.DataFrame(data)\n",
        "\n",
        "#Compute correlation matrix\n",
        "corr_matrix = df.corr()\n",
        "\n",
        "#Create heatmap\n",
        "sns.heatmap(corr_matrix, annot=True, cmap='coolwarm', fmt=\".2f\")\n",
        "\n",
        "#Show plot\n",
        "plt.title(\"Correlation Heatmap\")\n",
        "plt.show()"
      ],
      "metadata": {
        "colab": {
          "base_uri": "https://localhost:8080/",
          "height": 452
        },
        "id": "W9RyTNkpwEfc",
        "outputId": "c984d077-6f4c-463c-bcb2-e739017bb804"
      },
      "execution_count": null,
      "outputs": [
        {
          "output_type": "display_data",
          "data": {
            "text/plain": [
              "<Figure size 640x480 with 2 Axes>"
            ],
            "image/png": "[encoded data removed]"
          },
          "metadata": {}
        }
      ]
    },
    {
      "cell_type": "code",
      "source": [
        "#5.Generate a bar plot using Plotly.\n",
        "\n",
        "import plotly.express as px\n",
        "\n",
        "#Sample data\n",
        "data ={'category': ['A', 'B', 'C', 'D'],\n",
        "       'values': [10, 20, 30, 40]}\n",
        "\n",
        "#Create a bar plot\n",
        "fig = px.bar(data, x='category', y='values', title=\"Simple Bar Plot\", color='category')\n",
        "\n",
        "#Show plot\n",
        "fig.show()"
      ],
      "metadata": {
        "colab": {
          "base_uri": "https://localhost:8080/",
          "height": 542
        },
        "id": "Z8c5osfv0Vuq",
        "outputId": "977329ad-558d-4346-8145-754fe45f9978"
      },
      "execution_count": null,
      "outputs": [
        {
          "output_type": "display_data",
          "data": {
            "text/html": [
              "<html>\n",
              "<head><meta charset=\"utf-8\" /></head>\n",
              "<body>\n",
              "    <div>            <script src=\"https://cdnjs.cloudflare.com/ajax/libs/mathjax/2.7.5/MathJax.js?config=TeX-AMS-MML_SVG\"></script><script type=\"text/javascript\">if (window.MathJax && window.MathJax.Hub && window.MathJax.Hub.Config) {window.MathJax.Hub.Config({SVG: {font: \"STIX-Web\"}});}</script>                <script type=\"text/javascript\">window.PlotlyConfig = {MathJaxConfig: 'local'};</script>\n",
              "        <script charset=\"utf-8\" src=\"https://cdn.plot.ly/plotly-2.35.2.min.js\"></script>                <div id=\"3645f0dd-ee07-4415-b143-6337598e0500\" class=\"plotly-graph-div\" style=\"height:525px; width:100%;\"></div>            <script type=\"text/javascript\">                                    window.PLOTLYENV=window.PLOTLYENV || {};                                    if (document.getElementById(\"3645f0dd-ee07-4415-b143-6337598e0500\")) {                    Plotly.newPlot(                        \"3645f0dd-ee07-4415-b143-6337598e0500\",                        [{\"alignmentgroup\":\"True\",\"hovertemplate\":\"category=%{x}\\u003cbr\\u003evalues=%{y}\\u003cextra\\u003e\\u003c\\u002fextra\\u003e\",\"legendgroup\":\"A\",\"marker\":{\"color\":\"#636efa\",\"pattern\":{\"shape\":\"\"}},\"name\":\"A\",\"offsetgroup\":\"A\",\"orientation\":\"v\",\"showlegend\":true,\"textposition\":\"auto\",\"x\":[\"A\"],\"xaxis\":\"x\",\"y\":[10],\"yaxis\":\"y\",\"type\":\"bar\"},{\"alignmentgroup\":\"True\",\"hovertemplate\":\"category=%{x}\\u003cbr\\u003evalues=%{y}\\u003cextra\\u003e\\u003c\\u002fextra\\u003e\",\"legendgroup\":\"B\",\"marker\":{\"color\":\"#EF553B\",\"pattern\":{\"shape\":\"\"}},\"name\":\"B\",\"offsetgroup\":\"B\",\"orientation\":\"v\",\"showlegend\":true,\"textposition\":\"auto\",\"x\":[\"B\"],\"xaxis\":\"x\",\"y\":[20],\"yaxis\":\"y\",\"type\":\"bar\"},{\"alignmentgroup\":\"True\",\"hovertemplate\":\"category=%{x}\\u003cbr\\u003evalues=%{y}\\u003cextra\\u003e\\u003c\\u002fextra\\u003e\",\"legendgroup\":\"C\",\"marker\":{\"color\":\"#00cc96\",\"pattern\":{\"shape\":\"\"}},\"name\":\"C\",\"offsetgroup\":\"C\",\"orientation\":\"v\",\"showlegend\":true,\"textposition\":\"auto\",\"x\":[\"C\"],\"xaxis\":\"x\",\"y\":[30],\"yaxis\":\"y\",\"type\":\"bar\"},{\"alignmentgroup\":\"True\",\"hovertemplate\":\"category=%{x}\\u003cbr\\u003evalues=%{y}\\u003cextra\\u003e\\u003c\\u002fextra\\u003e\",\"legendgroup\":\"D\",\"marker\":{\"color\":\"#ab63fa\",\"pattern\":{\"shape\":\"\"}},\"name\":\"D\",\"offsetgroup\":\"D\",\"orientation\":\"v\",\"showlegend\":true,\"textposition\":\"auto\",\"x\":[\"D\"],\"xaxis\":\"x\",\"y\":[40],\"yaxis\":\"y\",\"type\":\"bar\"}],                        {\"template\":{\"data\":{\"histogram2dcontour\":[{\"type\":\"histogram2dcontour\",\"colorbar\":{\"outlinewidth\":0,\"ticks\":\"\"},\"colorscale\":[[0.0,\"#0d0887\"],[0.1111111111111111,\"#46039f\"],[0.2222222222222222,\"#7201a8\"],[0.3333333333333333,\"#9c179e\"],[0.4444444444444444,\"#bd3786\"],[0.5555555555555556,\"#d8576b\"],[0.6666666666666666,\"#ed7953\"],[0.7777777777777778,\"#fb9f3a\"],[0.8888888888888888,\"#fdca26\"],[1.0,\"#f0f921\"]]}],\"choropleth\":[{\"type\":\"choropleth\",\"colorbar\":{\"outlinewidth\":0,\"ticks\":\"\"}}],\"histogram2d\":[{\"type\":\"histogram2d\",\"colorbar\":{\"outlinewidth\":0,\"ticks\":\"\"},\"colorscale\":[[0.0,\"#0d0887\"],[0.1111111111111111,\"#46039f\"],[0.2222222222222222,\"#7201a8\"],[0.3333333333333333,\"#9c179e\"],[0.4444444444444444,\"#bd3786\"],[0.5555555555555556,\"#d8576b\"],[0.6666666666666666,\"#ed7953\"],[0.7777777777777778,\"#fb9f3a\"],[0.8888888888888888,\"#fdca26\"],[1.0,\"#f0f921\"]]}],\"heatmap\":[{\"type\":\"heatmap\",\"colorbar\":{\"outlinewidth\":0,\"ticks\":\"\"},\"colorscale\":[[0.0,\"#0d0887\"],[0.1111111111111111,\"#46039f\"],[0.2222222222222222,\"#7201a8\"],[0.3333333333333333,\"#9c179e\"],[0.4444444444444444,\"#bd3786\"],[0.5555555555555556,\"#d8576b\"],[0.6666666666666666,\"#ed7953\"],[0.7777777777777778,\"#fb9f3a\"],[0.8888888888888888,\"#fdca26\"],[1.0,\"#f0f921\"]]}],\"heatmapgl\":[{\"type\":\"heatmapgl\",\"colorbar\":{\"outlinewidth\":0,\"ticks\":\"\"},\"colorscale\":[[0.0,\"#0d0887\"],[0.1111111111111111,\"#46039f\"],[0.2222222222222222,\"#7201a8\"],[0.3333333333333333,\"#9c179e\"],[0.4444444444444444,\"#bd3786\"],[0.5555555555555556,\"#d8576b\"],[0.6666666666666666,\"#ed7953\"],[0.7777777777777778,\"#fb9f3a\"],[0.8888888888888888,\"#fdca26\"],[1.0,\"#f0f921\"]]}],\"contourcarpet\":[{\"type\":\"contourcarpet\",\"colorbar\":{\"outlinewidth\":0,\"ticks\":\"\"}}],\"contour\":[{\"type\":\"contour\",\"colorbar\":{\"outlinewidth\":0,\"ticks\":\"\"},\"colorscale\":[[0.0,\"#0d0887\"],[0.1111111111111111,\"#46039f\"],[0.2222222222222222,\"#7201a8\"],[0.3333333333333333,\"#9c179e\"],[0.4444444444444444,\"#bd3786\"],[0.5555555555555556,\"#d8576b\"],[0.6666666666666666,\"#ed7953\"],[0.7777777777777778,\"#fb9f3a\"],[0.8888888888888888,\"#fdca26\"],[1.0,\"#f0f921\"]]}],\"surface\":[{\"type\":\"surface\",\"colorbar\":{\"outlinewidth\":0,\"ticks\":\"\"},\"colorscale\":[[0.0,\"#0d0887\"],[0.1111111111111111,\"#46039f\"],[0.2222222222222222,\"#7201a8\"],[0.3333333333333333,\"#9c179e\"],[0.4444444444444444,\"#bd3786\"],[0.5555555555555556,\"#d8576b\"],[0.6666666666666666,\"#ed7953\"],[0.7777777777777778,\"#fb9f3a\"],[0.8888888888888888,\"#fdca26\"],[1.0,\"#f0f921\"]]}],\"mesh3d\":[{\"type\":\"mesh3d\",\"colorbar\":{\"outlinewidth\":0,\"ticks\":\"\"}}],\"scatter\":[{\"fillpattern\":{\"fillmode\":\"overlay\",\"size\":10,\"solidity\":0.2},\"type\":\"scatter\"}],\"parcoords\":[{\"type\":\"parcoords\",\"line\":{\"colorbar\":{\"outlinewidth\":0,\"ticks\":\"\"}}}],\"scatterpolargl\":[{\"type\":\"scatterpolargl\",\"marker\":{\"colorbar\":{\"outlinewidth\":0,\"ticks\":\"\"}}}],\"bar\":[{\"error_x\":{\"color\":\"#2a3f5f\"},\"error_y\":{\"color\":\"#2a3f5f\"},\"marker\":{\"line\":{\"color\":\"#E5ECF6\",\"width\":0.5},\"pattern\":{\"fillmode\":\"overlay\",\"size\":10,\"solidity\":0.2}},\"type\":\"bar\"}],\"scattergeo\":[{\"type\":\"scattergeo\",\"marker\":{\"colorbar\":{\"outlinewidth\":0,\"ticks\":\"\"}}}],\"scatterpolar\":[{\"type\":\"scatterpolar\",\"marker\":{\"colorbar\":{\"outlinewidth\":0,\"ticks\":\"\"}}}],\"histogram\":[{\"marker\":{\"pattern\":{\"fillmode\":\"overlay\",\"size\":10,\"solidity\":0.2}},\"type\":\"histogram\"}],\"scattergl\":[{\"type\":\"scattergl\",\"marker\":{\"colorbar\":{\"outlinewidth\":0,\"ticks\":\"\"}}}],\"scatter3d\":[{\"type\":\"scatter3d\",\"line\":{\"colorbar\":{\"outlinewidth\":0,\"ticks\":\"\"}},\"marker\":{\"colorbar\":{\"outlinewidth\":0,\"ticks\":\"\"}}}],\"scattermapbox\":[{\"type\":\"scattermapbox\",\"marker\":{\"colorbar\":{\"outlinewidth\":0,\"ticks\":\"\"}}}],\"scatterternary\":[{\"type\":\"scatterternary\",\"marker\":{\"colorbar\":{\"outlinewidth\":0,\"ticks\":\"\"}}}],\"scattercarpet\":[{\"type\":\"scattercarpet\",\"marker\":{\"colorbar\":{\"outlinewidth\":0,\"ticks\":\"\"}}}],\"carpet\":[{\"aaxis\":{\"endlinecolor\":\"#2a3f5f\",\"gridcolor\":\"white\",\"linecolor\":\"white\",\"minorgridcolor\":\"white\",\"startlinecolor\":\"#2a3f5f\"},\"baxis\":{\"endlinecolor\":\"#2a3f5f\",\"gridcolor\":\"white\",\"linecolor\":\"white\",\"minorgridcolor\":\"white\",\"startlinecolor\":\"#2a3f5f\"},\"type\":\"carpet\"}],\"table\":[{\"cells\":{\"fill\":{\"color\":\"#EBF0F8\"},\"line\":{\"color\":\"white\"}},\"header\":{\"fill\":{\"color\":\"#C8D4E3\"},\"line\":{\"color\":\"white\"}},\"type\":\"table\"}],\"barpolar\":[{\"marker\":{\"line\":{\"color\":\"#E5ECF6\",\"width\":0.5},\"pattern\":{\"fillmode\":\"overlay\",\"size\":10,\"solidity\":0.2}},\"type\":\"barpolar\"}],\"pie\":[{\"automargin\":true,\"type\":\"pie\"}]},\"layout\":{\"autotypenumbers\":\"strict\",\"colorway\":[\"#636efa\",\"#EF553B\",\"#00cc96\",\"#ab63fa\",\"#FFA15A\",\"#19d3f3\",\"#FF6692\",\"#B6E880\",\"#FF97FF\",\"#FECB52\"],\"font\":{\"color\":\"#2a3f5f\"},\"hovermode\":\"closest\",\"hoverlabel\":{\"align\":\"left\"},\"paper_bgcolor\":\"white\",\"plot_bgcolor\":\"#E5ECF6\",\"polar\":{\"bgcolor\":\"#E5ECF6\",\"angularaxis\":{\"gridcolor\":\"white\",\"linecolor\":\"white\",\"ticks\":\"\"},\"radialaxis\":{\"gridcolor\":\"white\",\"linecolor\":\"white\",\"ticks\":\"\"}},\"ternary\":{\"bgcolor\":\"#E5ECF6\",\"aaxis\":{\"gridcolor\":\"white\",\"linecolor\":\"white\",\"ticks\":\"\"},\"baxis\":{\"gridcolor\":\"white\",\"linecolor\":\"white\",\"ticks\":\"\"},\"caxis\":{\"gridcolor\":\"white\",\"linecolor\":\"white\",\"ticks\":\"\"}},\"coloraxis\":{\"colorbar\":{\"outlinewidth\":0,\"ticks\":\"\"}},\"colorscale\":{\"sequential\":[[0.0,\"#0d0887\"],[0.1111111111111111,\"#46039f\"],[0.2222222222222222,\"#7201a8\"],[0.3333333333333333,\"#9c179e\"],[0.4444444444444444,\"#bd3786\"],[0.5555555555555556,\"#d8576b\"],[0.6666666666666666,\"#ed7953\"],[0.7777777777777778,\"#fb9f3a\"],[0.8888888888888888,\"#fdca26\"],[1.0,\"#f0f921\"]],\"sequentialminus\":[[0.0,\"#0d0887\"],[0.1111111111111111,\"#46039f\"],[0.2222222222222222,\"#7201a8\"],[0.3333333333333333,\"#9c179e\"],[0.4444444444444444,\"#bd3786\"],[0.5555555555555556,\"#d8576b\"],[0.6666666666666666,\"#ed7953\"],[0.7777777777777778,\"#fb9f3a\"],[0.8888888888888888,\"#fdca26\"],[1.0,\"#f0f921\"]],\"diverging\":[[0,\"#8e0152\"],[0.1,\"#c51b7d\"],[0.2,\"#de77ae\"],[0.3,\"#f1b6da\"],[0.4,\"#fde0ef\"],[0.5,\"#f7f7f7\"],[0.6,\"#e6f5d0\"],[0.7,\"#b8e186\"],[0.8,\"#7fbc41\"],[0.9,\"#4d9221\"],[1,\"#276419\"]]},\"xaxis\":{\"gridcolor\":\"white\",\"linecolor\":\"white\",\"ticks\":\"\",\"title\":{\"standoff\":15},\"zerolinecolor\":\"white\",\"automargin\":true,\"zerolinewidth\":2},\"yaxis\":{\"gridcolor\":\"white\",\"linecolor\":\"white\",\"ticks\":\"\",\"title\":{\"standoff\":15},\"zerolinecolor\":\"white\",\"automargin\":true,\"zerolinewidth\":2},\"scene\":{\"xaxis\":{\"backgroundcolor\":\"#E5ECF6\",\"gridcolor\":\"white\",\"linecolor\":\"white\",\"showbackground\":true,\"ticks\":\"\",\"zerolinecolor\":\"white\",\"gridwidth\":2},\"yaxis\":{\"backgroundcolor\":\"#E5ECF6\",\"gridcolor\":\"white\",\"linecolor\":\"white\",\"showbackground\":true,\"ticks\":\"\",\"zerolinecolor\":\"white\",\"gridwidth\":2},\"zaxis\":{\"backgroundcolor\":\"#E5ECF6\",\"gridcolor\":\"white\",\"linecolor\":\"white\",\"showbackground\":true,\"ticks\":\"\",\"zerolinecolor\":\"white\",\"gridwidth\":2}},\"shapedefaults\":{\"line\":{\"color\":\"#2a3f5f\"}},\"annotationdefaults\":{\"arrowcolor\":\"#2a3f5f\",\"arrowhead\":0,\"arrowwidth\":1},\"geo\":{\"bgcolor\":\"white\",\"landcolor\":\"#E5ECF6\",\"subunitcolor\":\"white\",\"showland\":true,\"showlakes\":true,\"lakecolor\":\"white\"},\"title\":{\"x\":0.05},\"mapbox\":{\"style\":\"light\"}}},\"xaxis\":{\"anchor\":\"y\",\"domain\":[0.0,1.0],\"title\":{\"text\":\"category\"},\"categoryorder\":\"array\",\"categoryarray\":[\"A\",\"B\",\"C\",\"D\"]},\"yaxis\":{\"anchor\":\"x\",\"domain\":[0.0,1.0],\"title\":{\"text\":\"values\"}},\"legend\":{\"title\":{\"text\":\"category\"},\"tracegroupgap\":0},\"title\":{\"text\":\"Simple Bar Plot\"},\"barmode\":\"relative\"},                        {\"responsive\": true}                    ).then(function(){\n",
              "                            \n",
              "var gd = document.getElementById('3645f0dd-ee07-4415-b143-6337598e0500');\n",
              "var x = new MutationObserver(function (mutations, observer) {{\n",
              "        var display = window.getComputedStyle(gd).display;\n",
              "        if (!display || display === 'none') {{\n",
              "            console.log([gd, 'removed!']);\n",
              "            Plotly.purge(gd);\n",
              "            observer.disconnect();\n",
              "        }}\n",
              "}});\n",
              "\n",
              "// Listen for the removal of the full notebook cells\n",
              "var notebookContainer = gd.closest('#notebook-container');\n",
              "if (notebookContainer) {{\n",
              "    x.observe(notebookContainer, {childList: true});\n",
              "}}\n",
              "\n",
              "// Listen for the clearing of the current output cell\n",
              "var outputEl = gd.closest('.output');\n",
              "if (outputEl) {{\n",
              "    x.observe(outputEl, {childList: true});\n",
              "}}\n",
              "\n",
              "                        })                };                            </script>        </div>\n",
              "</body>\n",
              "</html>"
            ]
          },
          "metadata": {}
        }
      ]
    },
    {
      "cell_type": "code",
      "source": [
        "#6. Create a DataFrame and add a new column based on an existing column\n",
        "\n",
        "import pandas as pd\n",
        "\n",
        "#Create a DataFrame\n",
        "df = pd.DataFrame({'Name': ['Alice', 'Bob', 'Charlie'],\n",
        "                   'Salary': [50000, 60000, 70000]})\n",
        "\n",
        "#Add a new column 'Bonus' (10% of salary)\n",
        "df['Bonus'] = df['Salary'] * 0.10\n",
        "\n",
        "#Display DataFrame\n",
        "print(df)"
      ],
      "metadata": {
        "colab": {
          "base_uri": "https://localhost:8080/"
        },
        "id": "hlIXVNNp2fVr",
        "outputId": "17d340f0-0bdb-47ec-be8a-a6411bcbf3b1"
      },
      "execution_count": null,
      "outputs": [
        {
          "output_type": "stream",
          "name": "stdout",
          "text": [
            "      Name  Salary   Bonus\n",
            "0    Alice   50000  5000.0\n",
            "1      Bob   60000  6000.0\n",
            "2  Charlie   70000  7000.0\n"
          ]
        }
      ]
    },
    {
      "cell_type": "code",
      "source": [
        "#7.Write a program to perform element-wise multiplication of two NumPy arrays.\n",
        "\n",
        "import numpy as np\n",
        "\n",
        "#Create two NumPy arrays\n",
        "arr1 = np.array([1, 2, 3, 4, 5])\n",
        "arr2 = np.array([10, 20, 30, 40, 50])\n",
        "\n",
        "#Perform element-wise multiplication\n",
        "result = arr1 * arr2\n",
        "\n",
        "#Display Result\n",
        "print(result)"
      ],
      "metadata": {
        "colab": {
          "base_uri": "https://localhost:8080/"
        },
        "id": "oGTtzdi137cx",
        "outputId": "4b4b2aa8-5f9e-4d73-b7bd-48d61e4d65e4"
      },
      "execution_count": null,
      "outputs": [
        {
          "output_type": "stream",
          "name": "stdout",
          "text": [
            "[ 10  40  90 160 250]\n"
          ]
        }
      ]
    },
    {
      "cell_type": "code",
      "source": [
        "#8.Create a line plot with multiple lines using Matplotlib.\n",
        "\n",
        "import matplotlib.pyplot as plt\n",
        "\n",
        "#Sample data\n",
        "x = [1, 2, 3, 4, 5]\n",
        "y1 = [10, 15, 20, 25, 30]\n",
        "y2 = [5, 10, 15, 20, 25]\n",
        "\n",
        "#Create linr plot\n",
        "plt.plot(x, y1, label=\"Line 1\", color=\"blue\", marker=\"o\")\n",
        "plt.plot(x, y2, label=\"Line 2\", color=\"red\", linestyle=\"--\", marker=\"s\")\n",
        "\n",
        "\n",
        "#Labls and title\n",
        "plt.xlabel(\"X-axis\")\n",
        "plt.ylabel(\"Y-axis\")\n",
        "plt.title(\"Multiple Line Plot\")\n",
        "plt.legend() #Show legend\n",
        "\n",
        "#Show Plot\n",
        "plt.show()"
      ],
      "metadata": {
        "colab": {
          "base_uri": "https://localhost:8080/",
          "height": 472
        },
        "id": "mjvUcJPf4skt",
        "outputId": "7f8ffeb3-0a59-4e6e-d1d4-94e78a3faa46"
      },
      "execution_count": null,
      "outputs": [
        {
          "output_type": "display_data",
          "data": {
            "text/plain": [
              "<Figure size 640x480 with 1 Axes>"
            ],
            "image/png": "[encoded data removed]"
          },
          "metadata": {}
        }
      ]
    },
    {
      "cell_type": "code",
      "source": [
        "#9.Generate a Pandas DataFrame and filter rows where a column value is greater than a threshold.\n",
        "\n",
        "#Create a DataFrame\n",
        "df = pd.DataFrame({'Name': ['Alice', 'Bob', 'Charlie', 'David'],\n",
        "                   'Salary': [50000, 60000, 40000, 70000]})\n",
        "\n",
        "\n",
        "#Filter rows where salary > 50000\n",
        "filtered_df = df[df['Salary'] > 50000]\n",
        "\n",
        "#Display filtered DataFrame\n",
        "print(filtered_df)\n"
      ],
      "metadata": {
        "colab": {
          "base_uri": "https://localhost:8080/"
        },
        "id": "B72D3r0B9KMU",
        "outputId": "af75158b-292d-4653-e587-3e50dddbc00b"
      },
      "execution_count": null,
      "outputs": [
        {
          "output_type": "stream",
          "name": "stdout",
          "text": [
            "    Name  Salary\n",
            "1    Bob   60000\n",
            "3  David   70000\n"
          ]
        }
      ]
    },
    {
      "cell_type": "code",
      "source": [
        "#10.Create a histogram using Seaborn to visualize a distribution.\n",
        "\n",
        "import seaborn as sns\n",
        "import matplotlib.pyplot as plt\n",
        "\n",
        "#Sample data\n",
        "data = [10, 20, 20, 30, 30, 40, 50, 50, 60, 70, 80, 80, 90, 100]\n",
        "\n",
        "#Create histogram\n",
        "sns.histplot(data, bins=10, kde=True, color='blue')\n",
        "\n",
        "#Lables and title\n",
        "plt.xlabel(\"Values\")\n",
        "plt.ylabel(\"frequency\")\n",
        "plt.title(\"Histogram of data Distribution\")\n",
        "\n",
        "#Show plot\n",
        "plt.show()"
      ],
      "metadata": {
        "colab": {
          "base_uri": "https://localhost:8080/",
          "height": 472
        },
        "id": "beuwiLNgBWjB",
        "outputId": "fd876558-fc1b-453e-ba3f-7621c75826d8"
      },
      "execution_count": null,
      "outputs": [
        {
          "output_type": "display_data",
          "data": {
            "text/plain": [
              "<Figure size 640x480 with 1 Axes>"
            ],
            "image/png": "[encoded data removed]"
          },
          "metadata": {}
        }
      ]
    },
    {
      "cell_type": "code",
      "source": [
        "#11.Perform matrix multiplication using NumPy.\n",
        "\n",
        "import numpy as np\n",
        "\n",
        "#Define two matrices\n",
        "A = np.array([[1, 2],\n",
        "              [3, 4]])\n",
        "\n",
        "B = np.array([[5, 6],\n",
        "              [7, 8]])\n",
        "\n",
        "#Perform matrix multiplication\n",
        "result = np.dot(A, B)\n",
        "\n",
        "#Display result\n",
        "print(result)"
      ],
      "metadata": {
        "colab": {
          "base_uri": "https://localhost:8080/"
        },
        "id": "cL23jSk7D0US",
        "outputId": "3a34e4c1-3b92-40c2-9659-0e25ba43d2a3"
      },
      "execution_count": null,
      "outputs": [
        {
          "output_type": "stream",
          "name": "stdout",
          "text": [
            "[[19 22]\n",
            " [43 50]]\n"
          ]
        }
      ]
    },
    {
      "cell_type": "code",
      "source": [
        "#12.Use Pandas to load a CSV file and display its first 5 rows.\n",
        "\n",
        "import pandas as pd\n",
        "\n",
        "#Load CSV file into a DataFram\n",
        "df = pd.read_csv(\"/content/sample_data/california_housing_test.csv\")\n",
        "\n",
        "#Display first 5 rows\n",
        "print(df.head())"
      ],
      "metadata": {
        "colab": {
          "base_uri": "https://localhost:8080/"
        },
        "id": "bR_MCkS8VvNc",
        "outputId": "0d348f83-1104-49ce-f910-7d927034fe40"
      },
      "execution_count": null,
      "outputs": [
        {
          "output_type": "stream",
          "name": "stdout",
          "text": [
            "   longitude  latitude  housing_median_age  total_rooms  total_bedrooms  \\\n",
            "0    -122.05     37.37                27.0       3885.0           661.0   \n",
            "1    -118.30     34.26                43.0       1510.0           310.0   \n",
            "2    -117.81     33.78                27.0       3589.0           507.0   \n",
            "3    -118.36     33.82                28.0         67.0            15.0   \n",
            "4    -119.67     36.33                19.0       1241.0           244.0   \n",
            "\n",
            "   population  households  median_income  median_house_value  \n",
            "0      1537.0       606.0         6.6085            344700.0  \n",
            "1       809.0       277.0         3.5990            176500.0  \n",
            "2      1484.0       495.0         5.7934            270500.0  \n",
            "3        49.0        11.0         6.1359            330000.0  \n",
            "4       850.0       237.0         2.9375             81700.0  \n"
          ]
        }
      ]
    },
    {
      "cell_type": "code",
      "source": [
        "#13.Create a 3D scatter plot using Plotly.\n",
        "\n",
        "import plotly.express as px\n",
        "import pandas as pd\n",
        "\n",
        "#Sample data\n",
        "data = pd.DataFrame({\n",
        "    'X': [1, 2, 3, 4, 5],\n",
        "    'Y': [10, 15, 20, 25, 30],\n",
        "    'Z': [5, 10, 15, 20, 25]\n",
        "})\n",
        "\n",
        "#Create 3D scatters plot\n",
        "fig = px.scatter_3d(data, x='X', y='Y', z='Z', title=\"3D Scatter Plot\")\n",
        "\n",
        "#Show plot\n",
        "fig.show()"
      ],
      "metadata": {
        "colab": {
          "base_uri": "https://localhost:8080/",
          "height": 542
        },
        "id": "s70CWXmfVwGp",
        "outputId": "2bb02b3a-684b-4aa3-b8bf-971aa19f76aa"
      },
      "execution_count": null,
      "outputs": [
        {
          "output_type": "display_data",
          "data": {
            "text/html": [
              "<html>\n",
              "<head><meta charset=\"utf-8\" /></head>\n",
              "<body>\n",
              "    <div>            <script src=\"https://cdnjs.cloudflare.com/ajax/libs/mathjax/2.7.5/MathJax.js?config=TeX-AMS-MML_SVG\"></script><script type=\"text/javascript\">if (window.MathJax && window.MathJax.Hub && window.MathJax.Hub.Config) {window.MathJax.Hub.Config({SVG: {font: \"STIX-Web\"}});}</script>                <script type=\"text/javascript\">window.PlotlyConfig = {MathJaxConfig: 'local'};</script>\n",
              "        <script charset=\"utf-8\" src=\"https://cdn.plot.ly/plotly-2.35.2.min.js\"></script>                <div id=\"53582255-bd05-4ee5-ad91-b4c1fde4a677\" class=\"plotly-graph-div\" style=\"height:525px; width:100%;\"></div>            <script type=\"text/javascript\">                                    window.PLOTLYENV=window.PLOTLYENV || {};                                    if (document.getElementById(\"53582255-bd05-4ee5-ad91-b4c1fde4a677\")) {                    Plotly.newPlot(                        \"53582255-bd05-4ee5-ad91-b4c1fde4a677\",                        [{\"hovertemplate\":\"X=%{x}\\u003cbr\\u003eY=%{y}\\u003cbr\\u003eZ=%{z}\\u003cextra\\u003e\\u003c\\u002fextra\\u003e\",\"legendgroup\":\"\",\"marker\":{\"color\":\"#636efa\",\"symbol\":\"circle\"},\"mode\":\"markers\",\"name\":\"\",\"scene\":\"scene\",\"showlegend\":false,\"x\":[1,2,3,4,5],\"y\":[10,15,20,25,30],\"z\":[5,10,15,20,25],\"type\":\"scatter3d\"}],                        {\"template\":{\"data\":{\"histogram2dcontour\":[{\"type\":\"histogram2dcontour\",\"colorbar\":{\"outlinewidth\":0,\"ticks\":\"\"},\"colorscale\":[[0.0,\"#0d0887\"],[0.1111111111111111,\"#46039f\"],[0.2222222222222222,\"#7201a8\"],[0.3333333333333333,\"#9c179e\"],[0.4444444444444444,\"#bd3786\"],[0.5555555555555556,\"#d8576b\"],[0.6666666666666666,\"#ed7953\"],[0.7777777777777778,\"#fb9f3a\"],[0.8888888888888888,\"#fdca26\"],[1.0,\"#f0f921\"]]}],\"choropleth\":[{\"type\":\"choropleth\",\"colorbar\":{\"outlinewidth\":0,\"ticks\":\"\"}}],\"histogram2d\":[{\"type\":\"histogram2d\",\"colorbar\":{\"outlinewidth\":0,\"ticks\":\"\"},\"colorscale\":[[0.0,\"#0d0887\"],[0.1111111111111111,\"#46039f\"],[0.2222222222222222,\"#7201a8\"],[0.3333333333333333,\"#9c179e\"],[0.4444444444444444,\"#bd3786\"],[0.5555555555555556,\"#d8576b\"],[0.6666666666666666,\"#ed7953\"],[0.7777777777777778,\"#fb9f3a\"],[0.8888888888888888,\"#fdca26\"],[1.0,\"#f0f921\"]]}],\"heatmap\":[{\"type\":\"heatmap\",\"colorbar\":{\"outlinewidth\":0,\"ticks\":\"\"},\"colorscale\":[[0.0,\"#0d0887\"],[0.1111111111111111,\"#46039f\"],[0.2222222222222222,\"#7201a8\"],[0.3333333333333333,\"#9c179e\"],[0.4444444444444444,\"#bd3786\"],[0.5555555555555556,\"#d8576b\"],[0.6666666666666666,\"#ed7953\"],[0.7777777777777778,\"#fb9f3a\"],[0.8888888888888888,\"#fdca26\"],[1.0,\"#f0f921\"]]}],\"heatmapgl\":[{\"type\":\"heatmapgl\",\"colorbar\":{\"outlinewidth\":0,\"ticks\":\"\"},\"colorscale\":[[0.0,\"#0d0887\"],[0.1111111111111111,\"#46039f\"],[0.2222222222222222,\"#7201a8\"],[0.3333333333333333,\"#9c179e\"],[0.4444444444444444,\"#bd3786\"],[0.5555555555555556,\"#d8576b\"],[0.6666666666666666,\"#ed7953\"],[0.7777777777777778,\"#fb9f3a\"],[0.8888888888888888,\"#fdca26\"],[1.0,\"#f0f921\"]]}],\"contourcarpet\":[{\"type\":\"contourcarpet\",\"colorbar\":{\"outlinewidth\":0,\"ticks\":\"\"}}],\"contour\":[{\"type\":\"contour\",\"colorbar\":{\"outlinewidth\":0,\"ticks\":\"\"},\"colorscale\":[[0.0,\"#0d0887\"],[0.1111111111111111,\"#46039f\"],[0.2222222222222222,\"#7201a8\"],[0.3333333333333333,\"#9c179e\"],[0.4444444444444444,\"#bd3786\"],[0.5555555555555556,\"#d8576b\"],[0.6666666666666666,\"#ed7953\"],[0.7777777777777778,\"#fb9f3a\"],[0.8888888888888888,\"#fdca26\"],[1.0,\"#f0f921\"]]}],\"surface\":[{\"type\":\"surface\",\"colorbar\":{\"outlinewidth\":0,\"ticks\":\"\"},\"colorscale\":[[0.0,\"#0d0887\"],[0.1111111111111111,\"#46039f\"],[0.2222222222222222,\"#7201a8\"],[0.3333333333333333,\"#9c179e\"],[0.4444444444444444,\"#bd3786\"],[0.5555555555555556,\"#d8576b\"],[0.6666666666666666,\"#ed7953\"],[0.7777777777777778,\"#fb9f3a\"],[0.8888888888888888,\"#fdca26\"],[1.0,\"#f0f921\"]]}],\"mesh3d\":[{\"type\":\"mesh3d\",\"colorbar\":{\"outlinewidth\":0,\"ticks\":\"\"}}],\"scatter\":[{\"fillpattern\":{\"fillmode\":\"overlay\",\"size\":10,\"solidity\":0.2},\"type\":\"scatter\"}],\"parcoords\":[{\"type\":\"parcoords\",\"line\":{\"colorbar\":{\"outlinewidth\":0,\"ticks\":\"\"}}}],\"scatterpolargl\":[{\"type\":\"scatterpolargl\",\"marker\":{\"colorbar\":{\"outlinewidth\":0,\"ticks\":\"\"}}}],\"bar\":[{\"error_x\":{\"color\":\"#2a3f5f\"},\"error_y\":{\"color\":\"#2a3f5f\"},\"marker\":{\"line\":{\"color\":\"#E5ECF6\",\"width\":0.5},\"pattern\":{\"fillmode\":\"overlay\",\"size\":10,\"solidity\":0.2}},\"type\":\"bar\"}],\"scattergeo\":[{\"type\":\"scattergeo\",\"marker\":{\"colorbar\":{\"outlinewidth\":0,\"ticks\":\"\"}}}],\"scatterpolar\":[{\"type\":\"scatterpolar\",\"marker\":{\"colorbar\":{\"outlinewidth\":0,\"ticks\":\"\"}}}],\"histogram\":[{\"marker\":{\"pattern\":{\"fillmode\":\"overlay\",\"size\":10,\"solidity\":0.2}},\"type\":\"histogram\"}],\"scattergl\":[{\"type\":\"scattergl\",\"marker\":{\"colorbar\":{\"outlinewidth\":0,\"ticks\":\"\"}}}],\"scatter3d\":[{\"type\":\"scatter3d\",\"line\":{\"colorbar\":{\"outlinewidth\":0,\"ticks\":\"\"}},\"marker\":{\"colorbar\":{\"outlinewidth\":0,\"ticks\":\"\"}}}],\"scattermapbox\":[{\"type\":\"scattermapbox\",\"marker\":{\"colorbar\":{\"outlinewidth\":0,\"ticks\":\"\"}}}],\"scatterternary\":[{\"type\":\"scatterternary\",\"marker\":{\"colorbar\":{\"outlinewidth\":0,\"ticks\":\"\"}}}],\"scattercarpet\":[{\"type\":\"scattercarpet\",\"marker\":{\"colorbar\":{\"outlinewidth\":0,\"ticks\":\"\"}}}],\"carpet\":[{\"aaxis\":{\"endlinecolor\":\"#2a3f5f\",\"gridcolor\":\"white\",\"linecolor\":\"white\",\"minorgridcolor\":\"white\",\"startlinecolor\":\"#2a3f5f\"},\"baxis\":{\"endlinecolor\":\"#2a3f5f\",\"gridcolor\":\"white\",\"linecolor\":\"white\",\"minorgridcolor\":\"white\",\"startlinecolor\":\"#2a3f5f\"},\"type\":\"carpet\"}],\"table\":[{\"cells\":{\"fill\":{\"color\":\"#EBF0F8\"},\"line\":{\"color\":\"white\"}},\"header\":{\"fill\":{\"color\":\"#C8D4E3\"},\"line\":{\"color\":\"white\"}},\"type\":\"table\"}],\"barpolar\":[{\"marker\":{\"line\":{\"color\":\"#E5ECF6\",\"width\":0.5},\"pattern\":{\"fillmode\":\"overlay\",\"size\":10,\"solidity\":0.2}},\"type\":\"barpolar\"}],\"pie\":[{\"automargin\":true,\"type\":\"pie\"}]},\"layout\":{\"autotypenumbers\":\"strict\",\"colorway\":[\"#636efa\",\"#EF553B\",\"#00cc96\",\"#ab63fa\",\"#FFA15A\",\"#19d3f3\",\"#FF6692\",\"#B6E880\",\"#FF97FF\",\"#FECB52\"],\"font\":{\"color\":\"#2a3f5f\"},\"hovermode\":\"closest\",\"hoverlabel\":{\"align\":\"left\"},\"paper_bgcolor\":\"white\",\"plot_bgcolor\":\"#E5ECF6\",\"polar\":{\"bgcolor\":\"#E5ECF6\",\"angularaxis\":{\"gridcolor\":\"white\",\"linecolor\":\"white\",\"ticks\":\"\"},\"radialaxis\":{\"gridcolor\":\"white\",\"linecolor\":\"white\",\"ticks\":\"\"}},\"ternary\":{\"bgcolor\":\"#E5ECF6\",\"aaxis\":{\"gridcolor\":\"white\",\"linecolor\":\"white\",\"ticks\":\"\"},\"baxis\":{\"gridcolor\":\"white\",\"linecolor\":\"white\",\"ticks\":\"\"},\"caxis\":{\"gridcolor\":\"white\",\"linecolor\":\"white\",\"ticks\":\"\"}},\"coloraxis\":{\"colorbar\":{\"outlinewidth\":0,\"ticks\":\"\"}},\"colorscale\":{\"sequential\":[[0.0,\"#0d0887\"],[0.1111111111111111,\"#46039f\"],[0.2222222222222222,\"#7201a8\"],[0.3333333333333333,\"#9c179e\"],[0.4444444444444444,\"#bd3786\"],[0.5555555555555556,\"#d8576b\"],[0.6666666666666666,\"#ed7953\"],[0.7777777777777778,\"#fb9f3a\"],[0.8888888888888888,\"#fdca26\"],[1.0,\"#f0f921\"]],\"sequentialminus\":[[0.0,\"#0d0887\"],[0.1111111111111111,\"#46039f\"],[0.2222222222222222,\"#7201a8\"],[0.3333333333333333,\"#9c179e\"],[0.4444444444444444,\"#bd3786\"],[0.5555555555555556,\"#d8576b\"],[0.6666666666666666,\"#ed7953\"],[0.7777777777777778,\"#fb9f3a\"],[0.8888888888888888,\"#fdca26\"],[1.0,\"#f0f921\"]],\"diverging\":[[0,\"#8e0152\"],[0.1,\"#c51b7d\"],[0.2,\"#de77ae\"],[0.3,\"#f1b6da\"],[0.4,\"#fde0ef\"],[0.5,\"#f7f7f7\"],[0.6,\"#e6f5d0\"],[0.7,\"#b8e186\"],[0.8,\"#7fbc41\"],[0.9,\"#4d9221\"],[1,\"#276419\"]]},\"xaxis\":{\"gridcolor\":\"white\",\"linecolor\":\"white\",\"ticks\":\"\",\"title\":{\"standoff\":15},\"zerolinecolor\":\"white\",\"automargin\":true,\"zerolinewidth\":2},\"yaxis\":{\"gridcolor\":\"white\",\"linecolor\":\"white\",\"ticks\":\"\",\"title\":{\"standoff\":15},\"zerolinecolor\":\"white\",\"automargin\":true,\"zerolinewidth\":2},\"scene\":{\"xaxis\":{\"backgroundcolor\":\"#E5ECF6\",\"gridcolor\":\"white\",\"linecolor\":\"white\",\"showbackground\":true,\"ticks\":\"\",\"zerolinecolor\":\"white\",\"gridwidth\":2},\"yaxis\":{\"backgroundcolor\":\"#E5ECF6\",\"gridcolor\":\"white\",\"linecolor\":\"white\",\"showbackground\":true,\"ticks\":\"\",\"zerolinecolor\":\"white\",\"gridwidth\":2},\"zaxis\":{\"backgroundcolor\":\"#E5ECF6\",\"gridcolor\":\"white\",\"linecolor\":\"white\",\"showbackground\":true,\"ticks\":\"\",\"zerolinecolor\":\"white\",\"gridwidth\":2}},\"shapedefaults\":{\"line\":{\"color\":\"#2a3f5f\"}},\"annotationdefaults\":{\"arrowcolor\":\"#2a3f5f\",\"arrowhead\":0,\"arrowwidth\":1},\"geo\":{\"bgcolor\":\"white\",\"landcolor\":\"#E5ECF6\",\"subunitcolor\":\"white\",\"showland\":true,\"showlakes\":true,\"lakecolor\":\"white\"},\"title\":{\"x\":0.05},\"mapbox\":{\"style\":\"light\"}}},\"scene\":{\"domain\":{\"x\":[0.0,1.0],\"y\":[0.0,1.0]},\"xaxis\":{\"title\":{\"text\":\"X\"}},\"yaxis\":{\"title\":{\"text\":\"Y\"}},\"zaxis\":{\"title\":{\"text\":\"Z\"}}},\"legend\":{\"tracegroupgap\":0},\"title\":{\"text\":\"3D Scatter Plot\"}},                        {\"responsive\": true}                    ).then(function(){\n",
              "                            \n",
              "var gd = document.getElementById('53582255-bd05-4ee5-ad91-b4c1fde4a677');\n",
              "var x = new MutationObserver(function (mutations, observer) {{\n",
              "        var display = window.getComputedStyle(gd).display;\n",
              "        if (!display || display === 'none') {{\n",
              "            console.log([gd, 'removed!']);\n",
              "            Plotly.purge(gd);\n",
              "            observer.disconnect();\n",
              "        }}\n",
              "}});\n",
              "\n",
              "// Listen for the removal of the full notebook cells\n",
              "var notebookContainer = gd.closest('#notebook-container');\n",
              "if (notebookContainer) {{\n",
              "    x.observe(notebookContainer, {childList: true});\n",
              "}}\n",
              "\n",
              "// Listen for the clearing of the current output cell\n",
              "var outputEl = gd.closest('.output');\n",
              "if (outputEl) {{\n",
              "    x.observe(outputEl, {childList: true});\n",
              "}}\n",
              "\n",
              "                        })                };                            </script>        </div>\n",
              "</body>\n",
              "</html>"
            ]
          },
          "metadata": {}
        }
      ]
    }
  ]
}